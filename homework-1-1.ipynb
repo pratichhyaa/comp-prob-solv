{
 "cells": [
  {
   "cell_type": "code",
   "execution_count": null,
   "id": "e19fcd61-abec-4e15-925c-dd9692ed5940",
   "metadata": {},
   "outputs": [],
   "source": [
    "import numpy as np\n",
    "import pandas as pd\n",
    "import matplotlib.pyplot as plt\n",
    "# read data from the volume_pressure_data file\n",
    "df = pd.read_csv('C:\\\\Users\\\\Dell\\\\Downloads\\\\volume_pressure_data.csv')\n",
    "#display the dataset\n",
    "print(df)\n",
    "\n",
    "#calculate volume and pressure's mean, median and standard deviation\n",
    "Mean = df.mean()\n",
    "print(\"Mean = \",Mean)\n",
    "Median = df.median()\n",
    "print(\"Median = \",Median)\n",
    "Std_deviation = df.std()\n",
    "print(\"Std_deviation = \",Std_deviation)\n",
    "\n",
    "# plot of volume vs pressure\n",
    "plt.plot(df['Volume'],df['Pressure'],color=\"black\",linewidth=2, label = 'Original plot')\n",
    "plt.show\n",
    "plt.xlabel(\"Volume\")\n",
    "plt.ylabel(\"Pressure\")\n",
    "plt.grid(True)\n",
    "plt.title(\"Boyle's law for pressure and volume\")\n",
    "\n",
    "#fit the plot to a 2nd degree polynomial\n",
    "fitted_plot = np.polyfit(df['Volume'],df['Pressure'],2)\n",
    "\n",
    "# Create a polynomial function\n",
    "poly_func = np.poly1d(fitted_plot)\n",
    "y_fit = poly_func(df['Volume'])\n",
    "\n",
    "# Plot the original data and the fitted polynomial\n",
    "plt.plot(df['Volume'], y_fit, linewidth = 2, label='Fitted Polynomial')\n",
    "plt.legend()\n",
    "print(\"polynomial equation: y =\", poly_func) # print the ploynomial equation\n",
    "\n",
    "#Calculate the root mean squre error\n",
    "rmse = np.sqrt((np.mean(y_fit - df['Pressure'])) ** 2)\n",
    "print(\"The mean square error is\", rmse)"
   ]
  }
 ],
 "metadata": {
  "kernelspec": {
   "display_name": "Python 3 (ipykernel)",
   "language": "python",
   "name": "python3"
  },
  "language_info": {
   "codemirror_mode": {
    "name": "ipython",
    "version": 3
   },
   "file_extension": ".py",
   "mimetype": "text/x-python",
   "name": "python",
   "nbconvert_exporter": "python",
   "pygments_lexer": "ipython3",
   "version": "3.12.4"
  }
 },
 "nbformat": 4,
 "nbformat_minor": 5
}
